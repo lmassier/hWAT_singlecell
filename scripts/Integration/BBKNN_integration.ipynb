{
 "cells": [
  {
   "cell_type": "markdown",
   "id": "559ddae1",
   "metadata": {},
   "source": [
    "BBKNN integration following https://github.com/Teichlab/bbknn"
   ]
  },
  {
   "cell_type": "code",
   "execution_count": null,
   "id": "0b403eac",
   "metadata": {},
   "outputs": [],
   "source": [
    "import scanpy as sc\n",
    "import bbknn\n",
    "import pandas as pd\n",
    "import seaborn as sns\n",
    "import numpy as np\n",
    "import matplotlib.pyplot as plt\n",
    "sc.settings.verbosity = 3  \n",
    "sc.logging.print_header()\n",
    "sc.settings.set_figure_params(dpi=80)"
   ]
  },
  {
   "cell_type": "code",
   "execution_count": null,
   "id": "a1c79456",
   "metadata": {},
   "outputs": [],
   "source": [
    "import os\n",
    "os.chdir(\"path/to/wd\")\n",
    "cwd = os.getcwd()\n",
    "print(cwd)"
   ]
  },
  {
   "cell_type": "markdown",
   "id": "01dcc76b",
   "metadata": {},
   "source": [
    "Loading merged data sets which were saved as h5ad files in R using sceasy (https://github.com/cellgeni/sceasy):\n",
    "\n",
    "convertFormat(seurat_obj, from=\"seurat\", to=\"anndata\", main_layer=\"counts\", drop_single_values=FALSE,  outFile='seurat.h5ad')"
   ]
  },
  {
   "cell_type": "code",
   "execution_count": null,
   "id": "fe7fa07c",
   "metadata": {},
   "outputs": [],
   "source": [
    "adata = sc.read(\"path/to/seurat.h5ad\")"
   ]
  },
  {
   "cell_type": "markdown",
   "id": "437980c5",
   "metadata": {},
   "source": [
    "plot unintegrated data"
   ]
  },
  {
   "cell_type": "code",
   "execution_count": null,
   "id": "572d3158",
   "metadata": {},
   "outputs": [],
   "source": [
    "sc.pl.umap(adata,  color=['orig.ident','method'])"
   ]
  },
  {
   "cell_type": "markdown",
   "id": "638ef923",
   "metadata": {},
   "source": [
    "Run BBKNN for batch \"orig.ident\". As described, cohorts with multiple modi (e.g., methods or depots), were split."
   ]
  },
  {
   "cell_type": "code",
   "execution_count": null,
   "id": "31e654b2",
   "metadata": {},
   "outputs": [],
   "source": [
    "bbknn.bbknn(adata, batch_key='orig.ident')\n",
    "sc.tl.umap(adata)\n",
    "sc.pl.umap(adata, color=['orig.ident','tissue'])"
   ]
  },
  {
   "cell_type": "markdown",
   "id": "ddbff6eb",
   "metadata": {},
   "source": [
    "Run leiden clustering. Tested different resolutions based on final integration and decided on resolution=0.3"
   ]
  },
  {
   "cell_type": "code",
   "execution_count": null,
   "id": "458f90f6",
   "metadata": {},
   "outputs": [],
   "source": [
    "sc.tl.leiden(adata, resolution=0.3)\n",
    "sc.pl.umap(adata, color = 'leiden')"
   ]
  },
  {
   "cell_type": "markdown",
   "id": "483551f8",
   "metadata": {},
   "source": [
    "Repeat BBKNN integration using leiden as confounder key"
   ]
  },
  {
   "cell_type": "code",
   "execution_count": null,
   "id": "459d1262",
   "metadata": {},
   "outputs": [],
   "source": [
    "bbknn.ridge_regression(adata, batch_key=['orig.ident'], confounder_key=['leiden'])\n",
    "sc.pp.pca(adata)\n",
    "bbknn.bbknn(adata, batch_key='orig.ident')\n",
    "sc.tl.umap(adata)\n",
    "sc.pl.umap(adata, color=['orig.ident','tissue','method'])"
   ]
  },
  {
   "cell_type": "markdown",
   "id": "71b9d015",
   "metadata": {},
   "source": [
    "Write integrated data to h5ad, to be translated back into seurat using sceasy"
   ]
  },
  {
   "cell_type": "code",
   "execution_count": null,
   "id": "89775304",
   "metadata": {},
   "outputs": [],
   "source": [
    "adata.write(\"BBKNN_adata.h5ad\")"
   ]
  }
 ],
 "metadata": {
  "kernelspec": {
   "display_name": "Python 3 (ipykernel)",
   "language": "python",
   "name": "python3"
  },
  "language_info": {
   "codemirror_mode": {
    "name": "ipython",
    "version": 3
   },
   "file_extension": ".py",
   "mimetype": "text/x-python",
   "name": "python",
   "nbconvert_exporter": "python",
   "pygments_lexer": "ipython3",
   "version": "3.8.12"
  }
 },
 "nbformat": 4,
 "nbformat_minor": 5
}
